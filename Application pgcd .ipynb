{
 "cells": [
  {
   "cell_type": "code",
   "execution_count": 1,
   "id": "1aeaa942-5910-4898-88f5-3675bc8adeae",
   "metadata": {
    "editable": true,
    "slideshow": {
     "slide_type": ""
    },
    "tags": []
   },
   "outputs": [
    {
     "name": "stdout",
     "output_type": "stream",
     "text": [
      "Division : X^4 - 2*X^3 + X - 2 = (X - 2) * (X^3 - X + 1) + (X^2 - 2*X)\n",
      "Division : X^3 - X + 1 = (X + 2) * (X^2 - 2*X) + (3*X + 1)\n",
      "Division : X^2 - 2*X = (1/3*X - 7/9) * (3*X + 1) + (7/9)\n",
      "Division : 3*X + 1 = (27/7*X + 9/7) * (7/9) + (0)\n",
      "PGCD(f, g) = 1\n"
     ]
    }
   ],
   "source": [
    "def pgcd_polynomes(f, g, verbose=False):\n",
    "    \"\"\"\n",
    "    Calcule manuellement le PGCD de deux polynômes f et g\n",
    "    en utilisant l'algorithme d'Euclide, sans utiliser .gcd().\n",
    "    \n",
    "    Entrées :\n",
    "        - f, g : polynômes dans un même anneau (par exemple R.<X> = PolynomialRing(QQ))\n",
    "        - verbose (optionnel) : si True, affiche les étapes de l'algorithme\n",
    "        \n",
    "    Sortie :\n",
    "        - Le PGCD de f et g\n",
    "    \"\"\"\n",
    "    \n",
    "    if f.parent() != g.parent():\n",
    "        raise ValueError(\"Les deux polynômes doivent appartenir au même anneau.\")\n",
    "    \n",
    "    while not g.is_zero():\n",
    "        q, r = f.quo_rem(g)  # Division euclidienne\n",
    "        if verbose:\n",
    "            print(f\"Division : {f} = ({q}) * ({g}) + ({r})\")\n",
    "        f, g = g, r  # Mettre à jour\n",
    "        \n",
    "    # À la fin, f est le PGCD\n",
    "    return f.monic()  # Optionnel : rendre le PGCD monique (coefficient dominant 1)\n",
    "\n",
    "# Exemple d'utilisation :\n",
    "\n",
    "# Définir un anneau de polynômes\n",
    "R.<X> = PolynomialRing(QQ)\n",
    "\n",
    "# Définir deux polynômes\n",
    "f = X^4 - 2*X^3 + X - 2\n",
    "g = X^3 - X + 1\n",
    "\n",
    "# Calculer le PGCD\n",
    "gcd_fg = pgcd_polynomes(f, g, verbose=True)\n",
    "print(\"PGCD(f, g) =\", gcd_fg)"
   ]
  },
  {
   "cell_type": "code",
   "execution_count": null,
   "id": "e4029d3b-6cbe-4776-8e28-a8468234e51a",
   "metadata": {},
   "outputs": [],
   "source": []
  }
 ],
 "metadata": {
  "kernelspec": {
   "display_name": "SageMath 10.5",
   "language": "sage",
   "name": "sagemath-10.5"
  },
  "language_info": {
   "codemirror_mode": {
    "name": "ipython",
    "version": 3
   },
   "file_extension": ".py",
   "mimetype": "text/x-python",
   "name": "python",
   "nbconvert_exporter": "python",
   "pygments_lexer": "ipython3",
   "version": "3.12.5"
  }
 },
 "nbformat": 4,
 "nbformat_minor": 5
}
