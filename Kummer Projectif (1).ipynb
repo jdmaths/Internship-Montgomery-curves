{
 "cells": [
  {
   "cell_type": "code",
   "execution_count": 9,
   "id": "19e020a7-4438-4751-a070-bbadf7900cf8",
   "metadata": {},
   "outputs": [
    {
     "name": "stdout",
     "output_type": "stream",
     "text": [
      "f1 : X^2 + 100\n",
      "f2 : 71*X^2 + 30\n",
      "Racines égales : True\n"
     ]
    }
   ],
   "source": [
    "K = GF(101)\n",
    "A = K(3)\n",
    "\n",
    "# Transformation vers Weierstrass : y^2 = x^3 + A x^2 + x\n",
    "E = EllipticCurve(K, [0, A, 0, 1, 0])  # y^2 = x^3 + A x^2 + x\n",
    "\n",
    "R.<X> = PolynomialRing(K)\n",
    "\n",
    "def direct_poly(P, Q):\n",
    "    return (X - (P + Q)[0]) * (X - (P - Q)[0])\n",
    "\n",
    "def kummer_poly_proj(XP, ZP, XQ, ZQ, A):\n",
    "    # On calcule les invariants homogènes : trace et produit\n",
    "    num_trace = -2 * ( (XP*XQ + ZP*ZQ)*(XP*ZQ + XQ*ZP) + 2*A*XP*XQ*ZP*ZQ )\n",
    "    den_trace = (XP*ZQ - XQ*ZP)^2\n",
    "\n",
    "    num_prod = (XP*XQ - ZP*ZQ)^2\n",
    "    den_prod = (XP*ZQ - XQ*ZP)^2\n",
    "\n",
    "    # Homogénéisation : on met tout sous le même dénominateur (commun = den_prod*den_trace)\n",
    "    trace = num_trace \n",
    "    product = num_prod\n",
    "\n",
    "    return den_trace * X^2 + trace * X + product\n",
    "\n",
    "# Choix des points\n",
    "while True:\n",
    "    P = E.random_point()\n",
    "    Q = E.random_point()\n",
    "    if P != -Q and P != Q and P != E(0):\n",
    "        break\n",
    "\n",
    "xP = P[0]\n",
    "xQ = Q[0]\n",
    "\n",
    "# Coordonnées projectives : x = X/Z avec Z = 1\n",
    "XP, ZP = xP, K(1)\n",
    "XQ, ZQ = xQ, K(1)\n",
    "\n",
    "# Polynômes\n",
    "f1 = direct_poly(P, Q)\n",
    "f2 = kummer_poly_proj(XP, ZP, XQ, ZQ, A)\n",
    "\n",
    "print(\"f1 :\", f1)\n",
    "print(\"f2 :\", f2)\n",
    "\n",
    "# Normalisation pour comparer (homogène → unitaire)\n",
    "f2_normalized = f2 / f2.leading_coefficient()\n",
    "print(\"Racines égales :\", set(f1.roots()) == set(f2_normalized.roots()))\n"
   ]
  },
  {
   "cell_type": "code",
   "execution_count": 8,
   "id": "93766ee3-7476-45f9-8a37-0a72a21eb5c3",
   "metadata": {},
   "outputs": [
    {
     "name": "stdout",
     "output_type": "stream",
     "text": [
      "Temps (classique) : 0.0002699999999997704 secondes\n",
      "Temps (projectif) : 0.00016299999999991321 secondes\n",
      "Racines égales : True\n"
     ]
    }
   ],
   "source": [
    "# Choix des points\n",
    "while True:\n",
    "    P = E.random_point()\n",
    "    Q = E.random_point()\n",
    "    if P != -Q and P != Q and P != E(0):\n",
    "        break\n",
    "\n",
    "xP = P[0]\n",
    "xQ = Q[0]\n",
    "\n",
    "# Coordonnées projectives\n",
    "XP, ZP = xP, K(1)\n",
    "XQ, ZQ = xQ, K(1)\n",
    "\n",
    "# Mesure du temps classique\n",
    "t0 = cputime()\n",
    "f1 = direct_poly(P, Q)\n",
    "t1 = cputime()\n",
    "print(\"Temps (classique) :\", t1 - t0, \"secondes\")\n",
    "\n",
    "# Mesure du temps projectif\n",
    "t2 = cputime()\n",
    "f2 = kummer_poly_proj(XP, ZP, XQ, ZQ, A)\n",
    "t3 = cputime()\n",
    "print(\"Temps (projectif) :\", t3 - t2, \"secondes\")\n",
    "\n",
    "# Comparaison\n",
    "f2_normalized = f2 / f2.leading_coefficient()\n",
    "print(\"Racines égales :\", set(f1.roots()) == set(f2_normalized.roots()))\n",
    "\n"
   ]
  },
  {
   "cell_type": "code",
   "execution_count": null,
   "id": "f65d5083-76d0-4261-9d59-2e6119ad9384",
   "metadata": {},
   "outputs": [],
   "source": []
  },
  {
   "cell_type": "code",
   "execution_count": null,
   "id": "8d96f4a4-5d3a-4bac-90c8-c6eb1cc9a8e0",
   "metadata": {},
   "outputs": [],
   "source": []
  }
 ],
 "metadata": {
  "kernelspec": {
   "display_name": "SageMath 10.5",
   "language": "sage",
   "name": "sagemath-10.5"
  },
  "language_info": {
   "codemirror_mode": {
    "name": "ipython",
    "version": 3
   },
   "file_extension": ".py",
   "mimetype": "text/x-python",
   "name": "python",
   "nbconvert_exporter": "python",
   "pygments_lexer": "ipython3",
   "version": "3.12.5"
  }
 },
 "nbformat": 4,
 "nbformat_minor": 5
}
