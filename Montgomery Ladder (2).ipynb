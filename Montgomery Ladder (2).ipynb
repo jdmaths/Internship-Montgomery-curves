{
 "cells": [
  {
   "cell_type": "code",
   "execution_count": 1,
   "id": "d2ce5d9f-623a-4361-ac45-fa2a59bfc323",
   "metadata": {},
   "outputs": [],
   "source": [
    "# Définir les paramètres de la courbe de Montgomery (Curve25519)\n",
    "p = 2^255 - 19\n",
    "A = 486662\n",
    "F = GF(p)\n",
    "\n",
    "# Définir un point de base P avec seulement la coordonnée x\n",
    "xP = F(9)\n",
    "\n",
    "def xADD(XP, ZP, XQ, ZQ, X_diff, p):\n",
    "    F = GF(p)\n",
    "    A = F(XP + ZP)\n",
    "    B = F(XP - ZP)\n",
    "    C = F(XQ + ZQ)\n",
    "    D = F(XQ - ZQ)\n",
    "    DA = D * A\n",
    "    CB = C * B\n",
    "    X_out = (DA + CB)^2\n",
    "    Z_out = X_diff * (DA - CB)^2\n",
    "    return X_out, Z_out\n",
    "\n",
    "\n",
    "\n",
    "def xDBL(XP, ZP, a24, p):\n",
    "    F = GF(p)\n",
    "    A = F(XP + ZP)\n",
    "    B = F(XP - ZP)\n",
    "    AA = A^2\n",
    "    BB = B^2\n",
    "    E = AA - BB\n",
    "    X_out = AA * BB\n",
    "    Z_out = E * (BB + a24 * E)\n",
    "    return X_out, Z_out\n",
    "\n",
    "\n",
    "def montgomery_ladder(xP, A, n, p):\n",
    "    F = GF(p)\n",
    "    a24 = F((A + 2) / 4)\n",
    "\n",
    "    # Représentation projective : (X : Z)\n",
    "    X0, Z0 = F(1), F(0)      # Point à l'infini (0*P)\n",
    "    X1, Z1 = F(xP), F(1)     # Point P\n",
    "\n",
    "    n_bin = bin(n)[2:]       # Bits de n sans '0b'\n",
    "\n",
    "    for bit in n_bin:\n",
    "        bit = int(bit)\n",
    "        if bit == 0:\n",
    "            # P = P, Q = Q\n",
    "            X1, Z1 = xADD(X0, Z0, X1, Z1, xP, p)\n",
    "            X0, Z0 = xDBL(X0, Z0, a24, p)\n",
    "        else:\n",
    "            # P = Q, Q = P\n",
    "            X0, Z0 = xADD(X1, Z1, X0, Z0, xP, p)\n",
    "            X1, Z1 = xDBL(X1, Z1, a24, p)\n",
    "\n",
    "    return X0 / Z0\n"
   ]
  },
  {
   "cell_type": "code",
   "execution_count": null,
   "id": "69244995-c2c1-45bd-8ea4-c726c7ac3427",
   "metadata": {},
   "outputs": [],
   "source": []
  },
  {
   "cell_type": "code",
   "execution_count": null,
   "id": "ec2e6247-c6e8-45b0-9f01-35255122c5ce",
   "metadata": {},
   "outputs": [],
   "source": []
  }
 ],
 "metadata": {
  "kernelspec": {
   "display_name": "SageMath 10.5",
   "language": "sage",
   "name": "sagemath-10.5"
  },
  "language_info": {
   "codemirror_mode": {
    "name": "ipython",
    "version": 3
   },
   "file_extension": ".py",
   "mimetype": "text/x-python",
   "name": "python",
   "nbconvert_exporter": "python",
   "pygments_lexer": "ipython3",
   "version": "3.12.5"
  }
 },
 "nbformat": 4,
 "nbformat_minor": 5
}
