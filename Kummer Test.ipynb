{
 "cells": [
  {
   "cell_type": "code",
   "execution_count": 6,
   "id": "3b49af10-3365-4cb1-9647-1d4961aea81b",
   "metadata": {},
   "outputs": [
    {
     "name": "stdout",
     "output_type": "stream",
     "text": [
      "f1 : X^2 + 57*X + 24\n",
      "f2 : X^2 + 55*X + 54\n",
      "Racines égales : False\n"
     ]
    }
   ],
   "source": [
    "# Corps fini et courbe de Montgomery : By^2 = x(x^2 + Ax + 1)\n",
    "K = GF(101)\n",
    "A = K(2)\n",
    "B = K(1)\n",
    "\n",
    "E = EllipticCurve(K, [0, B, 0, A, 0])  # y^2 = x(x^2 + Ax + 1)\n",
    "\n",
    "R.<X> = PolynomialRing(K)\n",
    "\n",
    "def direct_poly(P, Q):\n",
    "    return (X - (P + Q)[0]) * (X - (P - Q)[0])\n",
    "\n",
    "def kummer_poly(xP, xQ, A):\n",
    "    trace = 2*A + ((xP + xQ)*(xP*xQ - 1)) / (xP - xQ)\n",
    "    product = ((xP*xQ - 1)^2) / ((xP - xQ)^2)\n",
    "    return X^2 - trace*X + product\n",
    "\n",
    "# Choix des points\n",
    "while True:\n",
    "    P = E.random_point()\n",
    "    Q = E.random_point()\n",
    "    if P != -Q and P != Q and P != E(0):\n",
    "        break\n",
    "\n",
    "xP = P[0]\n",
    "xQ = Q[0]\n",
    "\n",
    "f1 = direct_poly(P, Q)\n",
    "f2 = kummer_poly(xP, xQ, A)\n",
    "\n",
    "print(\"f1 :\", f1)\n",
    "print(\"f2 :\", f2)\n",
    "print(\"Racines égales :\", set(f1.roots()) == set(f2.roots()))\n",
    "\n"
   ]
  },
  {
   "cell_type": "code",
   "execution_count": 7,
   "id": "d4e3baf3-ada4-44ca-abe2-5293d05f7f3c",
   "metadata": {},
   "outputs": [],
   "source": [
    "import time\n",
    "\n",
    "def compare_methods(E, A, verbose=True):\n",
    "    while True:\n",
    "        P = E.random_point()\n",
    "        Q = E.random_point()\n",
    "        if P != -Q and P != Q and P != E(0):\n",
    "            break\n",
    "\n",
    "    xP = P[0]\n",
    "    xQ = Q[0]\n",
    "\n",
    "    # Méthode directe\n",
    "    t0 = time.time()\n",
    "    f1 = direct_poly(P, Q)\n",
    "    t1 = time.time()\n",
    "\n",
    "    # Méthode schématique\n",
    "    t2 = time.time()\n",
    "    f2 = kummer_schematic_poly(xP, xQ, A)\n",
    "    t3 = time.time()\n",
    "\n",
    "    # Affichage\n",
    "    if verbose:\n",
    "        print(\"🔹 Méthode directe :\", f1)\n",
    "        print(\"⏱️ Temps :\", round((t1 - t0)*1000, 3), \"ms\")\n",
    "        print(\"🔸 Méthode Kummer  :\", f2)\n",
    "        print(\"⏱️ Temps :\", round((t3 - t2)*1000, 3), \"ms\")\n",
    "        print(\"✅ Polynômes égaux :\", f1 == f2)\n",
    "        print(\"🔍 Racines direct :\", f1.roots(multiplicities=False))\n",
    "        print(\"🔍 Racines Kummer :\", f2.roots(multiplicities=False))\n",
    "\n",
    "    return {\n",
    "        \"f1\": f1, \"f2\": f2,\n",
    "        \"equal\": f1 == f2,\n",
    "        \"time_direct\": t1 - t0,\n",
    "        \"time_kummer\": t3 - t2\n",
    "    }\n"
   ]
  },
  {
   "cell_type": "code",
   "execution_count": 8,
   "id": "a1345357-1cd7-45d1-9867-3c8a2916ecec",
   "metadata": {},
   "outputs": [
    {
     "name": "stdout",
     "output_type": "stream",
     "text": [
      "🔹 Méthode directe : X^2 + 16*X + 87\n",
      "⏱️ Temps : 0.099 ms\n",
      "🔸 Méthode Kummer  : X^2 + 71*X + 1\n",
      "⏱️ Temps : 0.028 ms\n",
      "✅ Polynômes égaux : False\n",
      "🔍 Racines direct : [44, 41]\n",
      "🔍 Racines Kummer : [89, 42]\n"
     ]
    },
    {
     "data": {
      "text/plain": [
       "{'f1': X^2 + 16*X + 87,\n",
       " 'f2': X^2 + 71*X + 1,\n",
       " 'equal': False,\n",
       " 'time_direct': 9.918212890625e-05,\n",
       " 'time_kummer': 2.7894973754882812e-05}"
      ]
     },
     "execution_count": 8,
     "metadata": {},
     "output_type": "execute_result"
    }
   ],
   "source": [
    "compare_methods(E, A)\n"
   ]
  },
  {
   "cell_type": "code",
   "execution_count": null,
   "id": "9f31f2b0-de99-47d2-b9b8-930cd87986a5",
   "metadata": {},
   "outputs": [],
   "source": []
  }
 ],
 "metadata": {
  "kernelspec": {
   "display_name": "SageMath 10.5",
   "language": "sage",
   "name": "sagemath-10.5"
  },
  "language_info": {
   "codemirror_mode": {
    "name": "ipython",
    "version": 3
   },
   "file_extension": ".py",
   "mimetype": "text/x-python",
   "name": "python",
   "nbconvert_exporter": "python",
   "pygments_lexer": "ipython3",
   "version": "3.12.5"
  }
 },
 "nbformat": 4,
 "nbformat_minor": 5
}
