{
 "cells": [
  {
   "cell_type": "code",
   "execution_count": 1,
   "id": "cca6f59e-b3b1-45cc-9172-47a3acf658b0",
   "metadata": {},
   "outputs": [],
   "source": [
    "def setup_montgomery_curve():\n",
    "    K = GF(101)\n",
    "    A = K(2)\n",
    "    B = K(1)\n",
    "    E = EllipticCurve(K, [0, B, 0, A, 0])\n",
    "    return K, E, A\n",
    "\n",
    "def select_safe_points(E):\n",
    "    while True:\n",
    "        P = E.random_point()\n",
    "        Q = E.random_point()\n",
    "        if P != Q and P != -Q and P != E(0) and Q != E(0) and P[0] != Q[0]:\n",
    "            return P, Q\n",
    "\n",
    "def direct_poly(P, Q, R):\n",
    "    x1 = (P + Q)[0]\n",
    "    x2 = (P - Q)[0]\n",
    "    return (R - x1)*(R - x2)\n",
    "\n",
    "def kummer_poly(xP, xQ, A, R):\n",
    "    if xP == xQ:\n",
    "        raise ValueError(\"xP == xQ → division par 0 dans les formules\")\n",
    "    try:\n",
    "        trace = 2*A + ((xP + xQ)*(xP*xQ - 1)) / (xP - xQ)\n",
    "        product = ((xP*xQ - 1)^2) / ((xP - xQ)^2)\n",
    "        return R^2 - trace*R + product\n",
    "    except ZeroDivisionError:\n",
    "        raise ValueError(\"Division par 0 dans la formule Kummer\")\n",
    "\n",
    "def compare_roots(f1, f2, base_field, extension=False):\n",
    "    if extension:\n",
    "        L.<z> = GF(base_field.order()^2)\n",
    "        f1_ext = f1.change_ring(L)\n",
    "        f2_ext = f2.change_ring(L)\n",
    "        roots1 = set(f1_ext.roots(multiplicities=False))\n",
    "        roots2 = set(f2_ext.roots(multiplicities=False))\n",
    "    else:\n",
    "        roots1 = set(f1.roots(multiplicities=False))\n",
    "        roots2 = set(f2.roots(multiplicities=False))\n",
    "\n",
    "    return roots1, roots2, roots1 == roots2\n",
    "\n",
    "def run_comparison(extension=False):\n",
    "    print(\"▶️ Comparaison brutale vs Kummer\")\n",
    "\n",
    "    K, E, A = setup_montgomery_curve()\n",
    "    R.<X> = PolynomialRing(K)\n",
    "    P, Q = select_safe_points(E)\n",
    "\n",
    "    print(f\"Points choisis :\\n  P = {P}\\n  Q = {Q}\\n\")\n",
    "\n",
    "    try:\n",
    "        f1 = direct_poly(P, Q, X)\n",
    "        f2 = kummer_poly(P[0], Q[0], A, X)\n",
    "\n",
    "        print(f\"📐 f_direct : {f1}\")\n",
    "        print(f\"📐 f_kummer : {f2}\\n\")\n",
    "\n",
    "        r1, r2, equal = compare_roots(f1, f2, K, extension=extension)\n",
    "\n",
    "        print(f\"✅ Racines f1 : {r1}\")\n",
    "        print(f\"✅ Racines f2 : {r2}\")\n",
    "        print(f\"🎯 Racines identiques : {equal}\")\n",
    "    except Exception as e:\n",
    "        print(\"❌ Erreur pendant le calcul :\", e)\n"
   ]
  },
  {
   "cell_type": "code",
   "execution_count": 2,
   "id": "39560f92-1a20-460b-914f-f7d1b5463316",
   "metadata": {},
   "outputs": [
    {
     "name": "stdout",
     "output_type": "stream",
     "text": [
      "▶️ Comparaison brutale vs Kummer\n",
      "Points choisis :\n",
      "  P = (64 : 43 : 1)\n",
      "  Q = (37 : 9 : 1)\n",
      "\n",
      "📐 f_direct : X^2 + X + 6\n",
      "📐 f_kummer : X^2 + 97*X + 88\n",
      "\n",
      "✅ Racines f1 : {24, 76}\n",
      "✅ Racines f2 : {59, 46}\n",
      "🎯 Racines identiques : False\n"
     ]
    }
   ],
   "source": [
    "run_comparison()\n"
   ]
  },
  {
   "cell_type": "code",
   "execution_count": null,
   "id": "eb364eee-777b-4c20-848c-1e570d24d7b0",
   "metadata": {},
   "outputs": [],
   "source": []
  }
 ],
 "metadata": {
  "kernelspec": {
   "display_name": "SageMath 10.5",
   "language": "sage",
   "name": "sagemath-10.5"
  },
  "language_info": {
   "codemirror_mode": {
    "name": "ipython",
    "version": 3
   },
   "file_extension": ".py",
   "mimetype": "text/x-python",
   "name": "python",
   "nbconvert_exporter": "python",
   "pygments_lexer": "ipython3",
   "version": "3.12.5"
  }
 },
 "nbformat": 4,
 "nbformat_minor": 5
}
