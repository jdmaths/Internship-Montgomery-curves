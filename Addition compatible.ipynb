{
 "cells": [
  {
   "cell_type": "code",
   "execution_count": 3,
   "id": "f52b20e1-c407-47b1-8002-b65c4f012434",
   "metadata": {
    "editable": true,
    "slideshow": {
     "slide_type": ""
    },
    "tags": []
   },
   "outputs": [],
   "source": [
    "def xADD(XP, ZP, XQ, ZQ, X_diff, p):\n",
    "    F = GF(p)\n",
    "    A = F(XP + ZP)\n",
    "    B = F(XP - ZP)\n",
    "    C = F(XQ + ZQ)\n",
    "    D = F(XQ - ZQ)\n",
    "    DA = D * A\n",
    "    CB = C * B\n",
    "    X_out = (DA + CB)^2\n",
    "    Z_out = X_diff * (DA - CB)^2\n",
    "    return X_out, Z_out\n",
    "\n",
    "\n",
    "#xP=P[0]\n",
    "\n",
    "def kummer_poly(xP, xQ, A):\n",
    "    F = xP.parent()\n",
    "    R.<X> = PolynomialRing(F)\n",
    "    num = (xP * xQ - 1)^2\n",
    "    den = (xP - xQ)^2\n",
    "    trace = -2 * ((xP * xQ + 1)*(xP + xQ) + 2*A*xP*xQ) / den\n",
    "    product = num / den\n",
    "    return X^2 + trace*X + product, trace, product # retourne 3 objets\n",
    "\n",
    "def kummer_poly_proj(XP, ZP, XQ, ZQ, A):\n",
    "    F = XP.parent()\n",
    "    R.<X> = PolynomialRing(F)\n",
    "    # On calcule les invariants homogènes : trace et produit\n",
    "    num_trace = -2 * ( (XP*XQ + ZP*ZQ)*(XP*ZQ + XQ*ZP) + 2*A*XP*XQ*ZP*ZQ )\n",
    "    den_trace = (XP*ZQ - XQ*ZP)^2\n",
    "\n",
    "    num_prod = (XP*XQ - ZP*ZQ)^2\n",
    "    den_prod = (XP*ZQ - XQ*ZP)^2\n",
    "\n",
    "    # Homogénéisation : on met tout sous le même dénominateur (commun = den_prod*den_trace)\n",
    "    trace = num_trace \n",
    "    product = num_prod\n",
    "\n",
    "    return den_trace * X^2 + trace * X + product, trace, product\n",
    "\n",
    "\n",
    "#Données à avoir : P[0], (Q+T)[0], Q[0], (P+T)[0]\n",
    "def addition_compatible(x1, x2, x3, x4, A):\n",
    "    f, a1, b1 = kummer_poly(x1, x2, A)\n",
    "    g, a2, b2 = kummer_poly(x3, x4, A)\n",
    "    if a1 == a2:\n",
    "        raise ZeroDivisionError(\"Les traces sont égales, le PGCD n’est pas de degré 1.\")\n",
    "    racine = -(b1 - b2) / (a1 - a2)  # X + racine = 0  ⇨ racine = -cst/coef & #car le pgcd de 2 polynômes X^2+a_1X+b_1 et X^2+a_2X+b_2 est X + (b_1-b_2)/(a_1-a_2)\n",
    "    return racine\n",
    "\n",
    "\n",
    "def addition_compatible_proj(X1, Z1, X2, Z2, X3, Z3, X4, Z4, A):\n",
    "    F = X1.parent()\n",
    "    R.<X> = PolynomialRing(F)\n",
    "\n",
    "    f, a1, b1 = kummer_poly_proj(X1, Z1, X2, Z2, A)\n",
    "    g, a2, b2 = kummer_poly_proj(X3, Z3, X4, Z4, A)\n",
    "\n",
    "    if a1 == a2:\n",
    "        raise ZeroDivisionError(\"PGCD indéterminé : traces égales.\")\n",
    "\n",
    "    num = -(b1 - b2)\n",
    "    den = (a1 - a2)\n",
    "\n",
    "    x_affine = num / den\n",
    "\n",
    "    # Retour en projectif : x = X/Z ⇒ (X, Z) = (x_affine, 1)\n",
    "    return x_affine * F(1), F(1)  # (X, Z)\n",
    "\n",
    "\n",
    "p = 2^255 - 19\n",
    "F = GF(p)\n",
    "A = F(486662)\n",
    "\n",
    "# exemple de points \n",
    "xP = F(9)\n",
    "xQ = F(5)\n",
    "xT = F(7)\n",
    "xPplusT = F(12)\n",
    "xQplusT = F(14)\n",
    "\n",
    "xPplusQplusT = addition_compatible(xP, xQplusT, xQ, xPplusT, A)\n",
    "\n",
    "xQminusT = ((xQ * xT - 1)^2) / ((xQ - xT)^2 * xQplusT)\n",
    "\n",
    "xPplusQ = addition_compatible(xP, xQ, xPplusT, xQminusT, A)"
   ]
  },
  {
   "cell_type": "code",
   "execution_count": 4,
   "id": "39631a5b-b7ed-4e1e-ba00-a432512e24d7",
   "metadata": {},
   "outputs": [
    {
     "data": {
      "text/plain": [
       "32923605311662302840749844416638765527765399322374623388614743548863489562491"
      ]
     },
     "execution_count": 4,
     "metadata": {},
     "output_type": "execute_result"
    }
   ],
   "source": [
    "xPplusQplusT"
   ]
  },
  {
   "cell_type": "code",
   "execution_count": 5,
   "id": "ff336071-7ed2-4864-ab5c-4cd8c6f2d870",
   "metadata": {},
   "outputs": [
    {
     "data": {
      "text/plain": [
       "55932831376119066159002051292036098821001550643621559099532083783896093991274"
      ]
     },
     "execution_count": 5,
     "metadata": {},
     "output_type": "execute_result"
    }
   ],
   "source": [
    "xPplusQ"
   ]
  },
  {
   "cell_type": "code",
   "execution_count": null,
   "id": "9234e0f1-1708-4d5f-becf-2a75180e2af1",
   "metadata": {},
   "outputs": [],
   "source": []
  }
 ],
 "metadata": {
  "kernelspec": {
   "display_name": "SageMath 10.5",
   "language": "sage",
   "name": "sagemath-10.5"
  },
  "language_info": {
   "codemirror_mode": {
    "name": "ipython",
    "version": 3
   },
   "file_extension": ".py",
   "mimetype": "text/x-python",
   "name": "python",
   "nbconvert_exporter": "python",
   "pygments_lexer": "ipython3",
   "version": "3.12.5"
  }
 },
 "nbformat": 4,
 "nbformat_minor": 5
}
