{
 "cells": [
  {
   "cell_type": "code",
   "execution_count": 1,
   "id": "6d596d80-9513-4f71-be80-8b1e87d2b754",
   "metadata": {
    "editable": true,
    "slideshow": {
     "slide_type": ""
    },
    "tags": []
   },
   "outputs": [],
   "source": [
    "# Corps fini et courbe de Montgomery : By^2 = x(x^2 + Ax + 1)\n",
    "K = GF(101)\n",
    "A = K(3)\n",
    "#B = K(1)\n",
    "\n",
    "E = EllipticCurve(K, [0, A, 0, 1, 0])  # y^2 = x(x^2 + Ax + 1)\n",
    "\n",
    "R.<X> = PolynomialRing(K)\n",
    "\n",
    "def direct_poly(P, Q):\n",
    "    return (X - (P + Q)[0]) * (X - (P - Q)[0])\n",
    "\n",
    "def kummer_poly(xP, xQ, A):\n",
    "    trace = -2*((xP*xQ + 1)*(xP + xQ) + 2*A*xP*xQ) / ((xP - xQ)^2)\n",
    "    product = ((xP*xQ - 1)^2) / ((xP - xQ)^2)\n",
    "    return X^2 + trace*X + product"
   ]
  },
  {
   "cell_type": "code",
   "execution_count": 3,
   "id": "69309526-ba8a-43af-b6ac-86393e0275aa",
   "metadata": {
    "editable": true,
    "slideshow": {
     "slide_type": ""
    },
    "tags": []
   },
   "outputs": [
    {
     "ename": "NameError",
     "evalue": "name 'P1' is not defined",
     "output_type": "error",
     "traceback": [
      "\u001b[0;31m---------------------------------------------------------------------------\u001b[0m",
      "\u001b[0;31mNameError\u001b[0m                                 Traceback (most recent call last)",
      "Cell \u001b[0;32mIn[3], line 53\u001b[0m\n\u001b[1;32m     48\u001b[0m     \u001b[38;5;28;01mreturn\u001b[39;00m g\n\u001b[1;32m     50\u001b[0m \u001b[38;5;66;03m# Exécution d'un exemple:\u001b[39;00m\n\u001b[1;32m     51\u001b[0m \n\u001b[1;32m     52\u001b[0m \u001b[38;5;66;03m# Calcul\u001b[39;00m\n\u001b[0;32m---> 53\u001b[0m G \u001b[38;5;241m=\u001b[39m addition_compatible(\u001b[43mP1\u001b[49m, P2, T, A)\n\u001b[1;32m     55\u001b[0m \u001b[38;5;28mprint\u001b[39m(\u001b[38;5;124m\"\u001b[39m\u001b[38;5;124mPGCD obtenu :\u001b[39m\u001b[38;5;124m\"\u001b[39m, G)\n\u001b[1;32m     57\u001b[0m \u001b[38;5;66;03m# Récupération de la racine (x(P1 + P2 + T))\u001b[39;00m\n",
      "\u001b[0;31mNameError\u001b[0m: name 'P1' is not defined"
     ]
    }
   ],
   "source": [
    "def pgcd_polynomes(f, g, verbose=False):\n",
    "    \"\"\"\n",
    "    Calcule manuellement le PGCD de deux polynômes f et g\n",
    "    en utilisant l'algorithme d'Euclide, sans utiliser .gcd().\n",
    "    \n",
    "    Entrées :\n",
    "        - f, g : polynômes dans un même anneau (par exemple R.<X> = PolynomialRing(QQ))\n",
    "        - verbose (optionnel) : si True, affiche les étapes de l'algorithme\n",
    "        \n",
    "    Sortie :\n",
    "        - Le PGCD de f et g\n",
    "    \"\"\"\n",
    "    \n",
    "    if f.parent() != g.parent():\n",
    "        raise ValueError(\"Les deux polynômes doivent appartenir au même anneau.\")\n",
    "    \n",
    "    while not g.is_zero():\n",
    "        q, r = f.quo_rem(g)  # Division euclidienne\n",
    "        if verbose:\n",
    "            print(f\"Division : {f} = ({q}) * ({g}) + ({r})\")\n",
    "        f, g = g, r  # Mettre à jour\n",
    "        \n",
    "    # À la fin, f est le PGCD\n",
    "    return f.monic()  # Optionnel : rendre le PGCD monique (coefficient dominant 1)\n",
    "\n",
    "\n",
    "\n",
    "def addition_compatible(P1, P2, T, A):\n",
    "    # Coordonnées affines\n",
    "    xP1 = P1[0]\n",
    "    xP2 = P2[0]\n",
    "    xT  = T[0]\n",
    "\n",
    "    # Calcul de P2 + T et P1 + T\n",
    "    P2_plus_T = P2 + T\n",
    "    xP2_plus_T = P2_plus_T[0]\n",
    "\n",
    "    P1_plus_T = P1 + T\n",
    "    xP1_plus_T = P1_plus_T[0]\n",
    "\n",
    "    # Calcul des deux polynômes\n",
    "    f1 = kummer_poly(xP1, xP2_plus_T, A)\n",
    "    f2 = kummer_poly(xP2, xP1_plus_T, A)\n",
    "\n",
    "    # PGCD des deux polynômes\n",
    "    pgcd_polynomes(f1, f2, verbose=True)\n",
    "\n",
    "    return g\n",
    "\n",
    "# Exécution d'un exemple:\n",
    "\n",
    "\n",
    "# Calcul\n",
    "G = addition_compatible(P1, P2, T, A)\n",
    "\n",
    "print(\"PGCD obtenu :\", G)\n",
    "\n",
    "# Récupération de la racine (x(P1 + P2 + T))\n",
    "if G.degree() == 1:\n",
    "    coeffs = G.coefficients(sparse=False)\n",
    "    racine = -coeffs[0]/coeffs[1]\n",
    "    print(\"x(P1 + P2 + T) =\", racine)\n",
    "else:\n",
    "    print(\"Erreur : PGCD de degré inattendu :\", G.degree())\n",
    "    \n"
   ]
  },
  {
   "cell_type": "code",
   "execution_count": 10,
   "id": "c87d12f8-33c4-43c1-9874-aabd6185823d",
   "metadata": {
    "editable": true,
    "slideshow": {
     "slide_type": ""
    },
    "tags": []
   },
   "outputs": [
    {
     "name": "stdout",
     "output_type": "stream",
     "text": [
      "x(P2 - T) = 25\n"
     ]
    }
   ],
   "source": [
    "\n",
    "def xADD_inverse_affine(xP, xQ, xPplusQ):\n",
    "    \"\"\"\n",
    "    Addition différentielle version affine.\n",
    "    À partir de x(P), x(Q), x(P+Q),\n",
    "    retourne x(P-Q).\n",
    "    \"\"\"\n",
    "    numerator = (xP * xQ - 1)^2 * xPplusQ\n",
    "    denominator = (xP - xQ)^2\n",
    "    if denominator == 0:\n",
    "        raise ZeroDivisionError(\"Division par zéro dans xADD_inverse_affine\")\n",
    "    return numerator / denominator\n",
    "\n",
    "# 🧪 Exemple d'utilisation :\n",
    "\n",
    "# Choix de P2 et T aléatoires\n",
    "while True:\n",
    "    P2 = E.random_point()\n",
    "    T = E.random_point()\n",
    "    if P2 != E(0) and T != E(0) and not (2*T == E(0)):\n",
    "        break\n",
    "\n",
    "# Coordonnées affines\n",
    "xP2 = P2[0]\n",
    "xT = T[0]\n",
    "\n",
    "# x(P2 + T)\n",
    "P2_plus_T = P2 + T\n",
    "xP2plusT = P2_plus_T[0]\n",
    "\n",
    "# Calcul de x(P2 - T)\n",
    "x_P2_minus_T = xADD_inverse_affine(xP2, xT, xP2plusT)\n",
    "\n",
    "print(\"x(P2 - T) =\", x_P2_minus_T)\n"
   ]
  },
  {
   "cell_type": "code",
   "execution_count": 11,
   "id": "eabf618e-3904-455d-92e0-961dd7a66829",
   "metadata": {},
   "outputs": [
    {
     "name": "stdout",
     "output_type": "stream",
     "text": [
      "PGCD obtenu : 1\n",
      "Erreur : PGCD de degré inattendu : 0\n"
     ]
    }
   ],
   "source": [
    "def addition_compatible(P1, P2, T, A):\n",
    "    \"\"\"\n",
    "    Fonction addition compatible :\n",
    "    - Calcule kummer_poly(x(P1), x(P2))\n",
    "    - Calcule kummer_poly(x(P2-T), x(P1+T))\n",
    "    - Fait leur PGCD\n",
    "    - Retourne le PGCD (qui aura pour racine x(P1+P2))\n",
    "    \"\"\"\n",
    "    # Coordonnées affines\n",
    "    xP1 = P1[0]\n",
    "    xP2 = P2[0]\n",
    "    xT  = T[0]\n",
    "\n",
    "    # x(P1 + T)\n",
    "    P1_plus_T = P1 + T\n",
    "    xP1plusT = P1_plus_T[0]\n",
    "\n",
    "    # x(P2 + T)\n",
    "    P2_plus_T = P2 + T\n",
    "    xP2plusT = P2_plus_T[0]\n",
    "\n",
    "    # Calcul de x(P2 - T) en utilisant addition différentielle inverse\n",
    "    xP2minusT = xADD_inverse_affine(xP2, xT, xP2plusT)\n",
    "\n",
    "    # Calcul des deux polynômes\n",
    "    f1 = kummer_poly(xP1, xP2, A)\n",
    "    f2 = kummer_poly(xP2minusT, xP1plusT, A)\n",
    "\n",
    "    # PGCD des deux polynômes\n",
    "    g = f1.gcd(f2)\n",
    "\n",
    "    return g\n",
    "\n",
    "# 🧪 Exemple d'utilisation :\n",
    "\n",
    "# Choix de P1, P2 et T aléatoires\n",
    "while True:\n",
    "    P1 = E.random_point()\n",
    "    P2 = E.random_point()\n",
    "    T = E.random_point()\n",
    "    if P1 != -P2 and P1 != P2 and P1 != E(0) and P2 != E(0) and T != E(0) and not (2*T == E(0)):\n",
    "        break\n",
    "\n",
    "G = addition_compatible(P1, P2, T, A)\n",
    "\n",
    "print(\"PGCD obtenu :\", G)\n",
    "\n",
    "# Récupération de la racine (x(P1 + P2))\n",
    "if G.degree() == 1:\n",
    "    coeffs = G.coefficients(sparse=False)\n",
    "    racine = -coeffs[0]/coeffs[1]\n",
    "    print(\"x(P1 + P2) =\", racine)\n",
    "else:\n",
    "    print(\"Erreur : PGCD de degré inattendu :\", G.degree())\n"
   ]
  },
  {
   "cell_type": "code",
   "execution_count": null,
   "id": "7d2f4b72-75a4-4e29-b927-b51f98484caf",
   "metadata": {},
   "outputs": [],
   "source": []
  }
 ],
 "metadata": {
  "kernelspec": {
   "display_name": "SageMath 10.5",
   "language": "sage",
   "name": "sagemath-10.5"
  },
  "language_info": {
   "codemirror_mode": {
    "name": "ipython",
    "version": 3
   },
   "file_extension": ".py",
   "mimetype": "text/x-python",
   "name": "python",
   "nbconvert_exporter": "python",
   "pygments_lexer": "ipython3",
   "version": "3.12.5"
  }
 },
 "nbformat": 4,
 "nbformat_minor": 5
}
