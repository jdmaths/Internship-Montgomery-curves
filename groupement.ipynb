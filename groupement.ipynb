{
 "cells": [
  {
   "cell_type": "code",
   "execution_count": 1,
   "id": "85096ccd-700d-4a43-b2be-8c94dd77cd4b",
   "metadata": {
    "editable": true,
    "slideshow": {
     "slide_type": ""
    },
    "tags": []
   },
   "outputs": [],
   "source": [
    "# Définir les paramètres de la courbe de Montgomery (Curve25519)\n",
    "p = 2^255 - 19\n",
    "A = 486662\n",
    "F = GF(p)\n",
    "\n",
    "# Définir un point de base P avec seulement la coordonnée x\n",
    "xP = F(9)\n",
    "\n",
    "def xADD(XP, ZP, XQ, ZQ, X_diff, p):\n",
    "    F = GF(p)\n",
    "    A = F(XP + ZP)\n",
    "    B = F(XP - ZP)\n",
    "    C = F(XQ + ZQ)\n",
    "    D = F(XQ - ZQ)\n",
    "    DA = D * A\n",
    "    CB = C * B\n",
    "    X_out = (DA + CB)^2\n",
    "    Z_out = X_diff * (DA - CB)^2\n",
    "    return X_out, Z_out\n",
    "\n",
    "\n",
    "\n",
    "def xDBL(XP, ZP, a24, p):\n",
    "    F = GF(p)\n",
    "    A = F(XP + ZP)\n",
    "    B = F(XP - ZP)\n",
    "    AA = A^2\n",
    "    BB = B^2\n",
    "    E = AA - BB\n",
    "    X_out = AA * BB\n",
    "    Z_out = E * (BB + a24 * E)\n",
    "    return X_out, Z_out\n",
    "\n",
    "\n",
    "def montgomery_ladder(xP, A, n, p):\n",
    "    F = GF(p)\n",
    "    a24 = F((A + 2) / 4)\n",
    "\n",
    "    # Représentation projective : (X : Z)\n",
    "    X0, Z0 = F(1), F(0)      # Point à l'infini (0*P)\n",
    "    X1, Z1 = F(xP), F(1)     # Point P\n",
    "\n",
    "    n_bin = bin(n)[2:]       # Bits de n sans '0b'\n",
    "\n",
    "    for bit in n_bin:\n",
    "        bit = int(bit)\n",
    "        if bit == 0:\n",
    "            # P = P, Q = Q\n",
    "            X1, Z1 = xADD(X0, Z0, X1, Z1, xP, p)\n",
    "            X0, Z0 = xDBL(X0, Z0, a24, p)\n",
    "        else:\n",
    "            # P = Q, Q = P\n",
    "            X0, Z0 = xADD(X1, Z1, X0, Z0, xP, p)\n",
    "            X1, Z1 = xDBL(X1, Z1, a24, p)\n",
    "\n",
    "    return X0 / Z0\n"
   ]
  },
  {
   "cell_type": "code",
   "execution_count": 2,
   "id": "d533da2a-22d5-417b-81a9-b85ffb9fd2aa",
   "metadata": {
    "editable": true,
    "slideshow": {
     "slide_type": ""
    },
    "tags": []
   },
   "outputs": [
    {
     "name": "stdout",
     "output_type": "stream",
     "text": [
      "f1 : X^2 + 34*X + 5\n",
      "f2 : X^2 + 34*X + 5\n",
      "Racines égales : True\n"
     ]
    }
   ],
   "source": [
    "# Corps fini et courbe de Montgomery : By^2 = x(x^2 + Ax + 1)\n",
    "K = GF(101)\n",
    "A = K(3)\n",
    "#B = K(1)\n",
    "\n",
    "E = EllipticCurve(K, [0, A, 0, 1, 0])  # y^2 = x(x^2 + Ax + 1)\n",
    "\n",
    "R.<X> = PolynomialRing(K)\n",
    "\n",
    "\n",
    "def kummer_poly(xP, xQ, A):\n",
    "    trace = -2*((xP*xQ + 1)*(xP + xQ) + 2*A*xP*xQ) / ((xP - xQ)^2)\n",
    "    product = ((xP*xQ - 1)^2) / ((xP - xQ)^2)\n",
    "    return X^2 + trace*X + product\n",
    "\n",
    "# Choix des points\n",
    "T= E.random_point()\n",
    "\n",
    "while True:\n",
    "    P = E.random_point()\n",
    "    Q = E.random_point()\n",
    "    if P != -Q and P != Q and P != E(0):\n",
    "        break\n",
    "\n",
    "xP = P[0]\n",
    "xQ = Q[0]\n"
   ]
  },
  {
   "cell_type": "code",
   "execution_count": 12,
   "id": "19cad8d2-d6c2-4dd4-abdf-e7b2ec2d87a0",
   "metadata": {
    "editable": true,
    "slideshow": {
     "slide_type": ""
    },
    "tags": []
   },
   "outputs": [
    {
     "name": "stdout",
     "output_type": "stream",
     "text": [
      "X^2 + 36*X + 64\n",
      "X^2 + 48*X + 47\n",
      "Division : X^2 + 36*X + 64 = (1) * (X^2 + 48*X + 47) + (89*X + 17)\n",
      "Division : X^2 + 48*X + 47 = (42*X + 5) * (89*X + 17) + (63)\n",
      "Division : 89*X + 17 = (96*X + 66) * (63) + (0)\n"
     ]
    },
    {
     "data": {
      "text/plain": [
       "1"
      ]
     },
     "execution_count": 12,
     "metadata": {},
     "output_type": "execute_result"
    }
   ],
   "source": [
    "def pgcd_polynomes(f, g, verbose=False):\n",
    "    \"\"\"\n",
    "    Calcule manuellement le PGCD de deux polynômes f et g\n",
    "    en utilisant l'algorithme d'Euclide, sans utiliser .gcd().\n",
    "    \n",
    "    Entrées :\n",
    "        - f, g : polynômes dans un même anneau (par exemple R.<X> = PolynomialRing(QQ))\n",
    "        - verbose (optionnel) : si True, affiche les étapes de l'algorithme\n",
    "        \n",
    "    Sortie :\n",
    "        - Le PGCD de f et g\n",
    "    \"\"\"\n",
    "    \n",
    "    if f.parent() != g.parent():\n",
    "        raise ValueError(\"Les deux polynômes doivent appartenir au même anneau.\")\n",
    "    \n",
    "    while not g.is_zero():\n",
    "        q, r = f.quo_rem(g)  # Division euclidienne\n",
    "        if verbose:\n",
    "            print(f\"Division : {f} = ({q}) * ({g}) + ({r})\")\n",
    "        f, g = g, r  # Mettre à jour\n",
    "        \n",
    "    # À la fin, f est le PGCD\n",
    "    return f.monic()  # Optionnel : rendre le PGCD monique (coefficient dominant 1)\n",
    "\n",
    "\n",
    "T= E.random_point()\n",
    "\n",
    "while True:\n",
    "    P = E.random_point()\n",
    "    Q = E.random_point()\n",
    "    if P != -Q and P != Q and P != E(0):\n",
    "        break\n",
    "f=kummer_poly(xP, (Q+T)[0], A)\n",
    "g=kummer_poly(xQ, (P+T)[0], A)\n",
    "print(f)\n",
    "print(g)\n",
    "pgcd_polynomes(f, g, verbose=True)"
   ]
  },
  {
   "cell_type": "code",
   "execution_count": null,
   "id": "bef00e15-880a-4824-aea0-41081ab5c8cd",
   "metadata": {},
   "outputs": [],
   "source": []
  },
  {
   "cell_type": "code",
   "execution_count": null,
   "id": "a68e3fc2-dbdd-4357-9309-c6421e95c78d",
   "metadata": {},
   "outputs": [],
   "source": []
  }
 ],
 "metadata": {
  "kernelspec": {
   "display_name": "SageMath 10.5",
   "language": "sage",
   "name": "sagemath-10.5"
  },
  "language_info": {
   "codemirror_mode": {
    "name": "ipython",
    "version": 3
   },
   "file_extension": ".py",
   "mimetype": "text/x-python",
   "name": "python",
   "nbconvert_exporter": "python",
   "pygments_lexer": "ipython3",
   "version": "3.12.5"
  }
 },
 "nbformat": 4,
 "nbformat_minor": 5
}
