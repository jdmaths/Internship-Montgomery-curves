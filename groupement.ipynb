{
 "cells": [
  {
   "cell_type": "code",
   "execution_count": 1,
   "id": "85096ccd-700d-4a43-b2be-8c94dd77cd4b",
   "metadata": {
    "editable": true,
    "slideshow": {
     "slide_type": ""
    },
    "tags": []
   },
   "outputs": [],
   "source": [
    "# Définir les paramètres de la courbe de Montgomery (Curve25519)\n",
    "p = 2^255 - 19\n",
    "A = 486662\n",
    "F = GF(p)\n",
    "\n",
    "# Définir un point de base P avec seulement la coordonnée x\n",
    "xP = F(9)\n",
    "\n",
    "def xADD(XP, ZP, XQ, ZQ, X_diff, p):\n",
    "    F = GF(p)\n",
    "    A = F(XP + ZP)\n",
    "    B = F(XP - ZP)\n",
    "    C = F(XQ + ZQ)\n",
    "    D = F(XQ - ZQ)\n",
    "    DA = D * A\n",
    "    CB = C * B\n",
    "    X_out = (DA + CB)^2\n",
    "    Z_out = X_diff * (DA - CB)^2\n",
    "    return X_out, Z_out\n",
    "\n",
    "\n",
    "\n",
    "def xDBL(XP, ZP, a24, p):\n",
    "    F = GF(p)\n",
    "    A = F(XP + ZP)\n",
    "    B = F(XP - ZP)\n",
    "    AA = A^2\n",
    "    BB = B^2\n",
    "    E = AA - BB\n",
    "    X_out = AA * BB\n",
    "    Z_out = E * (BB + a24 * E)\n",
    "    return X_out, Z_out\n",
    "\n",
    "\n",
    "def montgomery_ladder(xP, A, n, p):\n",
    "    F = GF(p)\n",
    "    a24 = F((A + 2) / 4)\n",
    "\n",
    "    # Représentation projective : (X : Z)\n",
    "    X0, Z0 = F(1), F(0)      # Point à l'infini (0*P)\n",
    "    X1, Z1 = F(xP), F(1)     # Point P\n",
    "\n",
    "    n_bin = bin(n)[2:]       # Bits de n sans '0b'\n",
    "\n",
    "    for bit in n_bin:\n",
    "        bit = int(bit)\n",
    "        if bit == 0:\n",
    "            # P = P, Q = Q\n",
    "            X1, Z1 = xADD(X0, Z0, X1, Z1, xP, p)\n",
    "            X0, Z0 = xDBL(X0, Z0, a24, p)\n",
    "        else:\n",
    "            # P = Q, Q = P\n",
    "            X0, Z0 = xADD(X1, Z1, X0, Z0, xP, p)\n",
    "            X1, Z1 = xDBL(X1, Z1, a24, p)\n",
    "\n",
    "    return X0 / Z0\n"
   ]
  },
  {
   "cell_type": "code",
   "execution_count": 20,
   "id": "d533da2a-22d5-417b-81a9-b85ffb9fd2aa",
   "metadata": {
    "editable": true,
    "slideshow": {
     "slide_type": ""
    },
    "tags": []
   },
   "outputs": [],
   "source": [
    "# Corps fini et courbe de Montgomery : By^2 = x(x^2 + Ax + 1)\n",
    "K = GF(101)\n",
    "A = K(3)\n",
    "#B = K(1)\n",
    "\n",
    "E = EllipticCurve(K, [0, A, 0, 1, 0])  # y^2 = x(x^2 + Ax + 1)\n",
    "\n",
    "R.<X> = PolynomialRing(K)\n",
    "\n",
    "\n",
    "def kummer_poly(xP, xQ, A):\n",
    "    trace = -2*((xP*xQ + 1)*(xP + xQ) + 2*A*xP*xQ) / ((xP - xQ)^2)\n",
    "    product = ((xP*xQ - 1)^2) / ((xP - xQ)^2)\n",
    "    return X^2 + trace*X + product\n",
    "\n",
    "# Choix des points\n",
    "T= E.random_point()\n",
    "\n",
    "while True:\n",
    "    P = E.random_point()\n",
    "    Q = E.random_point()\n",
    "    if P != -Q and P != Q and P != E(0):\n",
    "        break\n",
    "\n",
    "xP = P[0]\n",
    "xQ = Q[0]\n"
   ]
  },
  {
   "cell_type": "code",
   "execution_count": 30,
   "id": "19cad8d2-d6c2-4dd4-abdf-e7b2ec2d87a0",
   "metadata": {
    "editable": true,
    "slideshow": {
     "slide_type": ""
    },
    "tags": []
   },
   "outputs": [
    {
     "name": "stdout",
     "output_type": "stream",
     "text": [
      "X^2 + 28*X + 95\n",
      "X^2 + 91*X + 68\n",
      "Division : X^2 + 28*X + 95 = (1) * (X^2 + 91*X + 68) + (38*X + 27)\n",
      "Division : X^2 + 91*X + 68 = (8*X + 10) * (38*X + 27) + (0)\n"
     ]
    }
   ],
   "source": [
    "def pgcd_polynomes(f, g, verbose=False):\n",
    "    \"\"\"\n",
    "    Calcule manuellement le PGCD de deux polynômes f et g\n",
    "    en utilisant l'algorithme d'Euclide, sans utiliser .gcd().\n",
    "    \n",
    "    Entrées :\n",
    "        - f, g : polynômes dans un même anneau (par exemple R.<X> = PolynomialRing(QQ))\n",
    "        - verbose (optionnel) : si True, affiche les étapes de l'algorithme\n",
    "        \n",
    "    Sortie :\n",
    "        - Le PGCD de f et g\n",
    "    \"\"\"\n",
    "    \n",
    "    if f.parent() != g.parent():\n",
    "        raise ValueError(\"Les deux polynômes doivent appartenir au même anneau.\")\n",
    "    \n",
    "    while not g.is_zero():\n",
    "        q, r = f.quo_rem(g)  # Division euclidienne\n",
    "        if verbose:\n",
    "            print(f\"Division : {f} = ({q}) * ({g}) + ({r})\")\n",
    "        f, g = g, r  # Mettre à jour\n",
    "        \n",
    "    # À la fin, f est le PGCD\n",
    "    return f.monic()  # Optionnel : rendre le PGCD monique (coefficient dominant 1)\n",
    "\n",
    "\n",
    "T= E.random_point()\n",
    "\n",
    "while True:\n",
    "    P = E.random_point()\n",
    "    Q = E.random_point()\n",
    "    if P != -Q and P != Q and P != E(0):\n",
    "        break\n",
    "f=kummer_poly(P[0], (Q+T)[0], A)\n",
    "g=kummer_poly(Q[0], (P+T)[0], A)\n",
    "print(f)\n",
    "print(g)\n",
    "pgcd_polynomes(f, g, verbose=True)\n",
    "\n",
    "def direct_poly(P, Q):\n",
    "    return (X - (P + Q)[0]) * (X - (P - Q)[0])\n",
    "f2=direct_poly(P, Q+T)\n",
    "g2=direct_poly(Q, P+T)"
   ]
  },
  {
   "cell_type": "code",
   "execution_count": 22,
   "id": "bef00e15-880a-4824-aea0-41081ab5c8cd",
   "metadata": {},
   "outputs": [
    {
     "data": {
      "text/plain": [
       "(61 : 59 : 1)"
      ]
     },
     "execution_count": 22,
     "metadata": {},
     "output_type": "execute_result"
    }
   ],
   "source": [
    "T\n"
   ]
  },
  {
   "cell_type": "code",
   "execution_count": 23,
   "id": "a68e3fc2-dbdd-4357-9309-c6421e95c78d",
   "metadata": {},
   "outputs": [
    {
     "data": {
      "text/plain": [
       "X^2 + 88*X + 1"
      ]
     },
     "execution_count": 23,
     "metadata": {},
     "output_type": "execute_result"
    }
   ],
   "source": [
    "f"
   ]
  },
  {
   "cell_type": "code",
   "execution_count": 24,
   "id": "9f314243-89fa-4e6c-ac0e-f10a521b2de4",
   "metadata": {},
   "outputs": [
    {
     "data": {
      "text/plain": [
       "Univariate Polynomial Ring in X over Finite Field of size 101"
      ]
     },
     "execution_count": 24,
     "metadata": {},
     "output_type": "execute_result"
    }
   ],
   "source": [
    "f.parent()"
   ]
  },
  {
   "cell_type": "code",
   "execution_count": 25,
   "id": "2b51c8fa-f0a4-4270-ab24-661df3503071",
   "metadata": {},
   "outputs": [
    {
     "data": {
      "text/plain": [
       "1"
      ]
     },
     "execution_count": 25,
     "metadata": {},
     "output_type": "execute_result"
    }
   ],
   "source": [
    "f.gcd(g)\n"
   ]
  },
  {
   "cell_type": "code",
   "execution_count": 26,
   "id": "e3894ae8-ab65-4a07-82ce-1f25809898a6",
   "metadata": {},
   "outputs": [
    {
     "data": {
      "text/plain": [
       "[(61, 1), (53, 1)]"
      ]
     },
     "execution_count": 26,
     "metadata": {},
     "output_type": "execute_result"
    }
   ],
   "source": [
    "f.roots()"
   ]
  },
  {
   "cell_type": "code",
   "execution_count": 27,
   "id": "cb74673a-b643-422c-9184-48eab5dde3c7",
   "metadata": {},
   "outputs": [
    {
     "data": {
      "text/plain": [
       "[(94, 1), (83, 1)]"
      ]
     },
     "execution_count": 27,
     "metadata": {},
     "output_type": "execute_result"
    }
   ],
   "source": [
    "g.roots()"
   ]
  },
  {
   "cell_type": "code",
   "execution_count": 28,
   "id": "579b9026-448d-45aa-8966-dae2fd1f00e5",
   "metadata": {},
   "outputs": [
    {
     "data": {
      "text/plain": [
       "(24 : 27 : 1)"
      ]
     },
     "execution_count": 28,
     "metadata": {},
     "output_type": "execute_result"
    }
   ],
   "source": [
    "P+Q+T"
   ]
  },
  {
   "cell_type": "code",
   "execution_count": 29,
   "id": "bf6ac9d4-e05f-4ca1-a260-d399dda1b037",
   "metadata": {},
   "outputs": [
    {
     "data": {
      "text/plain": [
       "X^2 + 98*X + 1"
      ]
     },
     "execution_count": 29,
     "metadata": {},
     "output_type": "execute_result"
    }
   ],
   "source": [
    "f2"
   ]
  },
  {
   "cell_type": "code",
   "execution_count": 16,
   "id": "ad106ed0-9585-45a5-a995-dcb4589b42a3",
   "metadata": {},
   "outputs": [
    {
     "data": {
      "text/plain": [
       "X + 11"
      ]
     },
     "execution_count": 16,
     "metadata": {},
     "output_type": "execute_result"
    }
   ],
   "source": [
    "f2.gcd(g2)"
   ]
  },
  {
   "cell_type": "code",
   "execution_count": 17,
   "id": "3c2d685c-dcd5-4c35-8344-3e88717a65d4",
   "metadata": {},
   "outputs": [
    {
     "data": {
      "text/plain": [
       "(49 : 41 : 1)"
      ]
     },
     "execution_count": 17,
     "metadata": {},
     "output_type": "execute_result"
    }
   ],
   "source": [
    "P"
   ]
  },
  {
   "cell_type": "code",
   "execution_count": 18,
   "id": "8f4f9702-88c5-44f7-b64a-f7b7f6b8b642",
   "metadata": {},
   "outputs": [
    {
     "data": {
      "text/plain": [
       "Abelian group of points on Elliptic Curve defined by y^2 = x^3 + 3*x^2 + x over Finite Field of size 101"
      ]
     },
     "execution_count": 18,
     "metadata": {},
     "output_type": "execute_result"
    }
   ],
   "source": [
    "P.parent()"
   ]
  },
  {
   "cell_type": "code",
   "execution_count": 19,
   "id": "664d0e03-9603-4076-ac3d-d77ffcda4a29",
   "metadata": {},
   "outputs": [
    {
     "data": {
      "text/plain": [
       "3"
      ]
     },
     "execution_count": 19,
     "metadata": {},
     "output_type": "execute_result"
    }
   ],
   "source": [
    "A"
   ]
  },
  {
   "cell_type": "code",
   "execution_count": null,
   "id": "f7bc06a1-392c-48e6-bbd6-608423dcbf52",
   "metadata": {},
   "outputs": [],
   "source": []
  }
 ],
 "metadata": {
  "kernelspec": {
   "display_name": "SageMath 10.6",
   "language": "sage",
   "name": "sagemath-10.6"
  },
  "language_info": {
   "codemirror_mode": {
    "name": "ipython",
    "version": 3
   },
   "file_extension": ".py",
   "mimetype": "text/x-python",
   "name": "python",
   "nbconvert_exporter": "python",
   "pygments_lexer": "ipython3",
   "version": "3.12.5"
  }
 },
 "nbformat": 4,
 "nbformat_minor": 5
}
