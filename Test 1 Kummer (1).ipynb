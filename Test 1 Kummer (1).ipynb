{
 "cells": [
  {
   "cell_type": "code",
   "execution_count": 29,
   "id": "3ed22bed-c4e0-421e-9770-26267f1c475b",
   "metadata": {},
   "outputs": [],
   "source": [
    "def kummer_schematic_addition(xP, xQ, A=0):\n",
    "    \"\"\"\n",
    "    À partir de x(P) et x(Q), retourne le polynôme quadratique\n",
    "    ayant pour racines x(P+Q) et x(P−Q).\n",
    "    Supposé être sur une courbe de Montgomery : By^2 = x(x^2 + Ax + 1)\n",
    "\n",
    "    Entrées :\n",
    "        - xP, xQ : abscisses des points P et Q (dans un corps K)\n",
    "        - A : paramètre du modèle de Montgomery (par défaut 0)\n",
    "\n",
    "    Sortie :\n",
    "        - polynôme f(X) = X^2 - S·X + P, avec racines x(P+Q), x(P−Q)\n",
    "    \"\"\"\n",
    "    K = xP.parent()\n",
    "    R.<X> = PolynomialRing(K)\n",
    "\n",
    "    # Formules classiques pour les courbes de Montgomery (cf. Costello–Smith)\n",
    "    S = (xP * xQ - 1)^2\n",
    "    D = (xP - xQ)^2\n",
    "\n",
    "    # Produit = x(P+Q)·x(P−Q)\n",
    "    product = S / D\n",
    "\n",
    "    # Somme = x(P+Q) + x(P−Q) = 2A + (xP + xQ)(xP xQ - 1) / (xP - xQ)\n",
    "    numerator = (xP + xQ)*(xP*xQ - 1)\n",
    "    denominator = xP - xQ\n",
    "    trace = 2*A + numerator / denominator\n",
    "\n",
    "    # Polynôme dont les racines sont x(P+Q), x(P−Q)\n",
    "    f = X^2 - trace*X + product\n",
    "    return f\n"
   ]
  },
  {
   "cell_type": "code",
   "execution_count": 30,
   "id": "737b2392-eefc-43b7-8095-048db4a2b442",
   "metadata": {},
   "outputs": [
    {
     "name": "stdout",
     "output_type": "stream",
     "text": [
      "Polynôme quadratique : X^2 + 49*X + 20\n",
      "Racines : []\n"
     ]
    }
   ],
   "source": [
    "K = GF(101)\n",
    "xP = K(5)\n",
    "xQ = K(9)\n",
    "A = K(2)\n",
    "\n",
    "f = kummer_schematic_addition(xP, xQ, A)\n",
    "print(\"Polynôme quadratique :\", f)\n",
    "print(\"Racines :\", f.roots())\n"
   ]
  },
  {
   "cell_type": "code",
   "execution_count": 31,
   "id": "c23facee-dced-4379-a9b9-f475e73cb75c",
   "metadata": {},
   "outputs": [],
   "source": [
    "# Exemple : courbe de Montgomery y^2 = x(x^2 + Ax + 1)\n",
    "K = GF(101)\n",
    "A = K(2)\n",
    "B = K(1)\n",
    "E = EllipticCurve(K, [0, B, 0, A, 0])  # Cette équation est by^2 = x(x^2 + Ax + 1)\n",
    "\n"
   ]
  },
  {
   "cell_type": "code",
   "execution_count": 32,
   "id": "ee3c74a3-c9cb-4233-8628-1347ea1098e4",
   "metadata": {},
   "outputs": [],
   "source": [
    "P = E.random_point()\n",
    "Q = E.random_point()\n"
   ]
  },
  {
   "cell_type": "code",
   "execution_count": 33,
   "id": "79cdb4ca-558b-4c6c-9304-c50f4baacf2d",
   "metadata": {},
   "outputs": [],
   "source": [
    "def direct_add_poly(P, Q):\n",
    "    \"\"\"\n",
    "    Retourne le polynôme (X - x(P+Q))(X - x(P-Q)) à partir des points.\n",
    "    \"\"\"\n",
    "    K = P.curve().base_field()\n",
    "    R.<X> = PolynomialRing(K)\n",
    "    x1 = (P + Q)[0]\n",
    "    x2 = (P - Q)[0]\n",
    "    return (X - x1)*(X - x2)\n",
    "\n"
   ]
  },
  {
   "cell_type": "code",
   "execution_count": 34,
   "id": "c93fe646-2170-4393-996d-cbb1e4aed9cc",
   "metadata": {},
   "outputs": [],
   "source": [
    "def kummer_schematic_addition(xP, xQ, A):\n",
    "    K = xP.parent()\n",
    "    R.<X> = PolynomialRing(K)\n",
    "\n",
    "    numerator = (xP + xQ)*(xP*xQ - 1)\n",
    "    denominator = xP - xQ\n",
    "    trace = 2*A + numerator / denominator\n",
    "    product = ((xP*xQ - 1)^2) / ((xP - xQ)^2)\n",
    "    \n",
    "    return X^2 - trace*X + product\n",
    "\n"
   ]
  },
  {
   "cell_type": "code",
   "execution_count": 35,
   "id": "5c12da9d-def9-4fea-9b04-f2d6c1bd365f",
   "metadata": {},
   "outputs": [],
   "source": [
    "import time\n",
    "\n",
    "def compare_algos(E):\n",
    "    P = E.random_point()\n",
    "    Q = E.random_point()\n",
    "    \n",
    "    while P == -Q or P == Q or P == E(0):  # pour éviter les cas pathologiques\n",
    "        P = E.random_point()\n",
    "        Q = E.random_point()\n",
    "\n",
    "    # Mesure temps méthode directe\n",
    "    t1 = time.time()\n",
    "    f1 = direct_add_poly(P, Q)\n",
    "    t2 = time.time()\n",
    "\n",
    "    # Mesure temps méthode Kummer\n",
    "    t3 = time.time()\n",
    "    f2 = kummer_poly_from_points(P, Q)\n",
    "    t4 = time.time()\n",
    "\n",
    "    print(\"🔹 Méthode directe (avec P, Q) :\", f1)\n",
    "    print(\"⏱️ Temps :\", round((t2 - t1)*1000, 3), \"ms\")\n",
    "    \n",
    "    print(\"🔸 Méthode Kummer (xP, xQ)     :\", f2)\n",
    "    print(\"⏱️ Temps :\", round((t4 - t3)*1000, 3), \"ms\")\n",
    "\n",
    "    # Vérification égalité\n",
    "    same = f1 == f2\n",
    "    print(\"✅ Polynômes égaux :\", same)"
   ]
  },
  {
   "cell_type": "code",
   "execution_count": 36,
   "id": "1e9e83b2-a49d-4e56-8735-b056d40f3c8b",
   "metadata": {},
   "outputs": [
    {
     "name": "stdout",
     "output_type": "stream",
     "text": [
      "🔹 Méthode directe (avec P, Q) : X^2 + 48*X + 88\n",
      "⏱️ Temps : 0.235 ms\n",
      "🔸 Méthode Kummer (xP, xQ)     : X^2 + 58*X + 65\n",
      "⏱️ Temps : 0.084 ms\n",
      "✅ Polynômes égaux : False\n"
     ]
    }
   ],
   "source": [
    "compare_algos(E)\n"
   ]
  },
  {
   "cell_type": "code",
   "execution_count": 37,
   "id": "5d97e51b-1fbd-45db-89de-8ad5c31deae9",
   "metadata": {},
   "outputs": [
    {
     "name": "stdout",
     "output_type": "stream",
     "text": [
      "Polynôme direct : X^2 + 98*X + 33\n",
      "Polynôme Kummer : X^2 + 93*X + 58\n",
      "Polynômes égaux ? False\n",
      "Racines direct : [86, 18]\n",
      "Racines Kummer : []\n"
     ]
    }
   ],
   "source": [
    "\n",
    "P = E.random_point()\n",
    "Q = E.random_point()\n",
    "xP = P[0]\n",
    "xQ = Q[0]\n",
    "\n",
    "f1 = direct_add_poly(P, Q)\n",
    "f2 = kummer_schematic_addition(xP, xQ, A)\n",
    "\n",
    "print(f\"Polynôme direct : {f1}\")\n",
    "print(f\"Polynôme Kummer : {f2}\")\n",
    "\n",
    "print(\"Polynômes égaux ?\", f1 == f2)\n",
    "print(\"Racines direct :\", f1.roots(multiplicities=False))\n",
    "print(\"Racines Kummer :\", f2.roots(multiplicities=False))\n"
   ]
  },
  {
   "cell_type": "code",
   "execution_count": null,
   "id": "07b60155-67b5-47b6-8e1e-dafea695193f",
   "metadata": {},
   "outputs": [],
   "source": []
  },
  {
   "cell_type": "code",
   "execution_count": null,
   "id": "a1ce114a-137b-4a68-bfce-21e298b9fbfa",
   "metadata": {},
   "outputs": [],
   "source": []
  },
  {
   "cell_type": "code",
   "execution_count": null,
   "id": "88348f76-c076-48c1-bea0-ec5816ff1f08",
   "metadata": {},
   "outputs": [],
   "source": []
  },
  {
   "cell_type": "code",
   "execution_count": null,
   "id": "90df9f29-0aa2-4216-bb52-0a6c59159647",
   "metadata": {},
   "outputs": [],
   "source": []
  },
  {
   "cell_type": "code",
   "execution_count": null,
   "id": "50dc51f4-26ec-4776-9b58-5f4218d874f7",
   "metadata": {},
   "outputs": [],
   "source": []
  }
 ],
 "metadata": {
  "kernelspec": {
   "display_name": "SageMath 10.5",
   "language": "sage",
   "name": "sagemath-10.5"
  },
  "language_info": {
   "codemirror_mode": {
    "name": "ipython",
    "version": 3
   },
   "file_extension": ".py",
   "mimetype": "text/x-python",
   "name": "python",
   "nbconvert_exporter": "python",
   "pygments_lexer": "ipython3",
   "version": "3.12.5"
  }
 },
 "nbformat": 4,
 "nbformat_minor": 5
}
